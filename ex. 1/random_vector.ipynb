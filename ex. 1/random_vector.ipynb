{
 "nbformat": 4,
 "nbformat_minor": 2,
 "metadata": {
  "language_info": {
   "name": "python",
   "codemirror_mode": {
    "name": "ipython",
    "version": 3
   },
   "version": "3.7.6-final"
  },
  "orig_nbformat": 2,
  "file_extension": ".py",
  "mimetype": "text/x-python",
  "name": "python",
  "npconvert_exporter": "python",
  "pygments_lexer": "ipython3",
  "version": 3,
  "kernelspec": {
   "name": "python3",
   "display_name": "Python 3"
  }
 },
 "cells": [
  {
   "cell_type": "code",
   "execution_count": 14,
   "metadata": {},
   "outputs": [
    {
     "output_type": "stream",
     "name": "stdout",
     "text": "[0.16358813 0.30538568 0.23114017 0.16879707 0.17202808 0.66013507\n 0.16641145]\n"
    }
   ],
   "source": [
    "import numpy as np\n",
    "    \n",
    "print(np.random.rand(7))"
   ]
  },
  {
   "cell_type": "code",
   "execution_count": 15,
   "metadata": {},
   "outputs": [
    {
     "output_type": "stream",
     "name": "stdout",
     "text": "[0.50715404 0.27913026 0.65159873 0.05496086 0.35645088 0.05942093\n 0.37844357 0.01057191 0.47775139 0.61677006]\n"
    }
   ],
   "source": [
    "import numpy as np\n",
    "\n",
    "def random_vector(n):\n",
    "    return np.random.rand(n)\n",
    "\n",
    "print(random_vector(10))"
   ]
  },
  {
   "cell_type": "code",
   "execution_count": 13,
   "metadata": {},
   "outputs": [
    {
     "output_type": "stream",
     "name": "stdout",
     "text": "('2006-01-05', 'BUY', 'RHAT', 100.0, 35.14)\n"
    }
   ],
   "source": [
    "import sqlite3\n",
    "conn = sqlite3.connect('ex1.db')\n",
    "\n",
    "c = conn.cursor()\n",
    "c.execute('SELECT date, trans, symbol, qty, price FROM stocks LIMIT 1;')\n",
    "print(c.fetchone())\n",
    "conn.commit()\n",
    "\n",
    "conn.close()"
   ]
  }
 ]
}