{
 "nbformat": 4,
 "nbformat_minor": 2,
 "metadata": {
  "language_info": {
   "name": "python",
   "codemirror_mode": {
    "name": "ipython",
    "version": 3
   },
   "version": "3.7.6-final"
  },
  "orig_nbformat": 2,
  "file_extension": ".py",
  "mimetype": "text/x-python",
  "name": "python",
  "npconvert_exporter": "python",
  "pygments_lexer": "ipython3",
  "version": 3,
  "kernelspec": {
   "name": "python3",
   "display_name": "Python 3"
  }
 },
 "cells": [
  {
   "cell_type": "code",
   "execution_count": 4,
   "metadata": {},
   "outputs": [
    {
     "name": "stdout",
     "output_type": "stream",
     "text": "[0.4569332  0.33106813 0.4466953  0.30369843 0.87297441 0.41818417\n 0.14809917]\n\n\n[0.82624201 0.32541133 0.06899054 0.5394085  0.82649028 0.32822155\n 0.09966191 0.00620681 0.46709717 0.59512318]\n"
    }
   ],
   "source": [
    "import numpy as np\n",
    "    \n",
    "print(np.random.rand(7))\n",
    "print(\"\\n\")\n",
    "\n",
    "def random_vector(n):\n",
    "    return np.random.rand(n)\n",
    "\n",
    "print(random_vector(10))"
   ]
  },
  {
   "cell_type": "markdown",
   "metadata": {},
   "source": []
  },
  {
   "cell_type": "code",
   "execution_count": null,
   "metadata": {},
   "outputs": [],
   "source": []
  }
 ]
}